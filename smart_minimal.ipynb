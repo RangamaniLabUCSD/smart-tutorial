{
 "cells": [
  {
   "cell_type": "markdown",
   "metadata": {},
   "source": [
    "# SMART - the tutorial (Take 1)\n",
    "\n",
    "Spatial Modeling Algorithms for Reactions and Transport (SMART) provides a convenient framework to simulate reaction networks, particularly within biological cells.\n",
    "These networks are generally **mixed dimensional** and **spatial**, requiring the solution of systems of **partial differential equations**.\n",
    "\n",
    "## Part 1: A minimal example\n",
    "\n",
    "For illustration, we start with a minimal case of diffusion within a domain with a constant uniform degradation rate. No mixed dimensionality needed, just consider a single species, $A$ that obeys the following equation:\n",
    "\n",
    "$$\n",
    "\\frac{\\partial A}{\\partial t} = D_A \\nabla^2 A - k_{decay} A \\quad \\text{in} ~ \\Omega_{surf} \\\\\n",
    "D_A \\nabla A \\cdot \\mathbf{n} = 0 \\quad \\text{on} ~ \\Gamma_{edge}\n",
    "$$\n",
    "\n",
    "Any use of SMART will start with importing at least the `smart` and `dolfin` modules. Maybe also `matplotlib` if we want to do some plotting."
   ]
  },
  {
   "cell_type": "code",
   "execution_count": null,
   "metadata": {},
   "outputs": [],
   "source": [
    "import smart\n",
    "import dolfin as d\n",
    "from matplotlib import pyplot as plt"
   ]
  },
  {
   "cell_type": "markdown",
   "metadata": {},
   "source": [
    "A logistical note - it's often convenient to load in specific submodules of SMART rather than needing to refer to them by their full names during every use. For instance, instead of typing `smart.units.unit`, we might just want to use `unit`, in which case we can use the following import: `from smart.units import unit`. Most of the examples use the following imports:"
   ]
  },
  {
   "cell_type": "code",
   "execution_count": null,
   "metadata": {},
   "outputs": [],
   "source": [
    "from smart import config, mesh, model, mesh_tools, visualization\n",
    "from smart.units import unit\n",
    "from smart.model_assembly import (\n",
    "    Compartment,\n",
    "    Parameter,\n",
    "    Reaction,\n",
    "    Species,\n",
    "    SpeciesContainer,\n",
    "    ParameterContainer,\n",
    "    CompartmentContainer,\n",
    "    ReactionContainer,\n",
    ")\n",
    "import logging\n",
    "logger = logging.getLogger(\"smart\")"
   ]
  },
  {
   "cell_type": "markdown",
   "metadata": {},
   "source": [
    "SMART also requires the user to specify units, utilizing the `pint` Python module. Mostly any units you want will be in `smart.units.unit`:"
   ]
  },
  {
   "cell_type": "code",
   "execution_count": null,
   "metadata": {},
   "outputs": [],
   "source": [
    "D_unit = unit.um**2 / unit.s\n",
    "conc_unit = unit.molecule / unit.um**2\n",
    "surf_var = Compartment(\"surf\", 2, unit.um, 1)"
   ]
  },
  {
   "cell_type": "markdown",
   "metadata": {},
   "source": [
    "Following these preliminary steps, we begin the basic workflow of SMART:\n",
    "1. **Initialize SMART containers**: Each container (species, compartments, reactions, or parameters) is initialized by first creating individual objects of the class `Species`, `Compartment`, `Reaction`, `Parameter`. The initialization of these objects is described in some detail in Examples [1](https://rangamanilabucsd.github.io/smart/examples/example1/example1.html) and [3](https://rangamanilabucsd.github.io/smart/examples/example3/example3.html), or more comprehensively in the [API documentation](https://rangamanilabucsd.github.io/smart/autoapi/smart/model_assembly/index.html#module-model_assembly).\n",
    "\n",
    "    These SMART containers contain all instances of any given class. In general, the user should define an empty container of the correct type and then add all instances of each object manually. In this simple example, we consider a model with a single species (`A`) over a single surface (`surf`), with a single reaction (`r1`, with parameter `k` defining the rate of decay) corresponding to exponential decay over time. Note that the `Reaction` constructor takes in an equation written as a string, whose input arguments, `k` and `A`, are mapped to either a `Species` or `Parameter`. The input argument in the `param_map` maps from the equation variable name (`\"k\"`) to the name of the parameter (`\"kdecay\"`). Similarly, the input argument in the `species_map` maps from the equation variable name (`\"sp\"`) to the name of the species (`\"A\"`)."
   ]
  },
  {
   "cell_type": "code",
   "execution_count": null,
   "metadata": {},
   "outputs": [],
   "source": [
    "surf_var = Compartment(\"surf\", 2, unit.um, 1)\n",
    "A_var = Species(\"A\", \"10*exp(-(x-0.5)**2-(y-0.5)**2)\", conc_unit, 0.01, D_unit, \"surf\")\n",
    "# A_var = Species(\"A\", 1.0, conc_unit, 0.01, D_unit, \"surf\")\n",
    "kdecay_var = Parameter(\"kdecay\", 1, 1/unit.s)\n",
    "r1_var = Reaction(\"r1\", [\"A\"], [], param_map={\"k\":\"kdecay\"},\n",
    "                                        species_map={\"sp\":\"A\"}, eqn_f_str=\"k*sp\")\n",
    "cc = CompartmentContainer()\n",
    "cc.add([surf_var])\n",
    "sc = SpeciesContainer()\n",
    "sc.add([A_var])\n",
    "pc = ParameterContainer()\n",
    "pc.add([kdecay_var])\n",
    "rc = ReactionContainer()\n",
    "rc.add([r1_var])"
   ]
  },
  {
   "cell_type": "markdown",
   "metadata": {},
   "source": [
    "2. **Generate/load in mesh**: Separately from defining the SMART containers, the user must either generate or load in a mesh. In Examples 2, 3, 4, and 6, this mesh is generated using [Gmsh](https://gmsh.info/), via our module `mesh_tools`. Then [meshio](https://github.com/nschloe/meshio) is used to convert the `.msh` file generated by [Gmsh](https://gmsh.info/) into a mesh for use by DOLFIN (the computational backend of [FEniCS](https://fenicsproject.org/)). Alternatively, Examples 1 and 5 use built-in mesh functions in DOLFIN (either `d.RectangleMesh()` or `d.UnitCubeMesh()`). For some applications, the user may wish to generate a mesh using other software. These can then be loaded in for use by SMART by using [meshio](https://github.com/nschloe/meshio) to convert to an [XDMF-file](https://www.xdmf.org/index.php/XDMF_Model_and_Format) and loading into dolfin using `d.XDMFFile()`. (see `mesh_tools.gmsh_to_dolfin` for an example).\n",
    "\n",
    "    Note that the user should also provide two mesh marker functions defined over the facets and cells of the mesh (for a 3D model, the facet mesh function includes all 2D \"surface\" elements and the cell mesh function includes all 3D \"volume\" elements). Each of these objects should be of the class `d.MeshFunction`, type `size_t`. The values of these functions over the mesh indicate the compartments to which each region belongs. For the demos that use [Gmsh](https://gmsh.info/), these marker functions are defined by adding physical groups to the mesh and then converting to `d.MeshFunction`'s in `mesh_tools.gmsh_to_dolfin`. In Examples 1 and 5, mesh functions are defined after generating the dolfin mesh. For other examples of defining mesh functions in DOLFIN, see FEniCS tutorials; for instance, https://fenicsproject.org/olddocs/dolfin/latest/python/demos/subdomains-poisson/documentation.html.\n",
    "\n",
    "    Once the DOLFIN mesh and mesh functions have been defined, they should be written to file using the function `mesh_tools.write_mesh`. This generates an hdf5 file that is readable by SMART. Finally, the `mesh.ParentMesh` object is defined. In our simple example here, we generate a dolfin mesh using `d.RectangleMesh`:"
   ]
  },
  {
   "cell_type": "code",
   "execution_count": null,
   "metadata": {},
   "outputs": [],
   "source": [
    "rect_mesh = d.RectangleMesh(d.Point(0.0, 0.0), d.Point(1.0, 1.0), 10, 10)\n",
    "mf2 = d.MeshFunction(\"size_t\", rect_mesh, 2, 1)\n",
    "mf1 = d.MeshFunction(\"size_t\", rect_mesh, 1, 0)\n",
    "mesh_tools.write_mesh(rect_mesh, mf1, mf2, \"rect_mesh.h5\")\n",
    "parent_mesh = mesh.ParentMesh(mesh_filename=\"rect_mesh.h5\", mesh_filetype=\"hdf5\", name=\"parent_mesh\")"
   ]
  },
  {
   "cell_type": "markdown",
   "metadata": {},
   "source": [
    "3. **Initialize model object**: Once the SMART containers and the parent mesh have been defined, these can all be used to assemble a single `model` object. In our example, we initialize the model object with the default configuration:"
   ]
  },
  {
   "cell_type": "code",
   "execution_count": null,
   "metadata": {},
   "outputs": [],
   "source": [
    "config_cur = config.Config()\n",
    "model_cur = model.Model(pc, sc, cc, rc, config_cur, parent_mesh)"
   ]
  },
  {
   "cell_type": "markdown",
   "metadata": {},
   "source": [
    "4. **Specify solver configuration**: SMART solves the assembled reaction-transport equations using the finite element method. This finite element system is assembled using [FEniCS](https://fenicsproject.org/) and is then solved using [SNES in PETSc4Py](https://petsc.org/release/manual/snes/#ch-snes). The user can provide problem-tailored solver specifications by calling `config_cur.solver.update()` (given a config object, `config_cur`). Minimally, the user should provide a time step and final time for the simulation:"
   ]
  },
  {
   "cell_type": "code",
   "execution_count": null,
   "metadata": {},
   "outputs": [],
   "source": [
    "config_cur.solver.update({\"final_t\": 1.0, \"initial_dt\": 0.1})"
   ]
  },
  {
   "cell_type": "markdown",
   "metadata": {},
   "source": [
    "In this manner, the user can also specify \"time_precision\" (number of digits past the decimal point to round time, default is 6) and \"print_assembly\" (prints information during assembly process, default is True).\n",
    "\n",
    "5. **Initialize variational problem and solver**: Once the model object has been initialized and the config object has been set, we can initialize the variational problem in FEniCS and initialize the SNES solver in PETSc. This is all done internally by calling the single function:"
   ]
  },
  {
   "cell_type": "code",
   "execution_count": null,
   "metadata": {},
   "outputs": [],
   "source": [
    "model_cur.initialize()"
   ]
  },
  {
   "cell_type": "markdown",
   "metadata": {},
   "source": [
    " Advanced users may wish to alter the default SNES preconditioners and solvers used in SMART. An example of how to do so is included in Example 6; generally, this involves calling functions within the `model.Model.solver` object. For instance, to change the solver tolerance, we can write `model_cur.solver.setTolerances(rtol=1e-4)`. See the [SNES API](https://www.mcs.anl.gov/petsc/petsc4py-current/docs/apiref/petsc4py.PETSc.SNES-class.html) for more information about the SNES class.\n",
    " \n",
    "6. **Start simulation**: Initially, data is saved to an [XDMF-file](https://www.xdmf.org/index.php/XDMF_Model_and_Format) before entering a loop to solve the system until the current time is greater than the specified final time. At each time step, the resulting distribution of `A` is stored to file, and the average of each species (in this case just `A`) is stored to a list that can be accessed after the loop. The solution at each time step can be accessed through the species container using an expression of the form `sc[\"species_name\"].sol`. Note that here we change the logging level to WARNING to mitigate some of the overflow of output."
   ]
  },
  {
   "cell_type": "code",
   "execution_count": null,
   "metadata": {},
   "outputs": [],
   "source": [
    "results = d.XDMFFile(model_cur.mpi_comm_world, \"A.xdmf\")\n",
    "results.parameters[\"flush_output\"] = True\n",
    "results.write(model_cur.sc[\"A\"].sol, model_cur.t)\n",
    "dx = d.Measure(\"dx\", domain=model_cur.cc[\"surf\"].dolfin_mesh)\n",
    "int_val = d.assemble(model_cur.sc[\"A\"].sol*dx)\n",
    "volume = d.assemble(1.0*dx)\n",
    "avg_A = [int_val / volume]\n",
    "logger.setLevel(logging.WARNING)\n",
    "while True:\n",
    "    model_cur.monolithic_solve()\n",
    "    print(f\"Done with t = {model_cur.t}\")\n",
    "    results.write(model_cur.sc[\"A\"].sol, model_cur.t)\n",
    "    int_val = d.assemble(model_cur.sc[\"A\"].sol*dx)\n",
    "    avg_A.append(int_val / volume)\n",
    "    if model_cur.t >= model_cur.final_t:\n",
    "        break"
   ]
  },
  {
   "cell_type": "markdown",
   "metadata": {},
   "source": [
    "7. **End simulation and visualize data**: We recommend writing data to XDMF-files as shown in the previous step. These can then be readily visualized and post-processed in [Paraview](https://www.paraview.org/). Alternatively, the mesh and results can be viewed in Python using Pyvista; the `smart.visualization` module offers Pyvista-based options for visualization and is used throughout the SMART demos."
   ]
  },
  {
   "cell_type": "code",
   "execution_count": null,
   "metadata": {},
   "outputs": [],
   "source": [
    "visualization.plot(model_cur.sc['A'].u['u'])"
   ]
  },
  {
   "cell_type": "markdown",
   "metadata": {},
   "source": [
    "Finally, we also note that certain data analysis tasks, such as tracking the average concentration over time by integrating at each time step, can be easily done using built-in DOLFIN function in the Python script. For instance, in the above script, we used `d.assemble` to integrate A over the surface when computing the average at each time point. In an interactive setting, we can visualize these results using matplotlib; for example:"
   ]
  },
  {
   "cell_type": "code",
   "execution_count": null,
   "metadata": {},
   "outputs": [],
   "source": [
    "plt.plot(model_cur.tvec, avg_A)\n",
    "plt.xlabel('Time (s)')\n",
    "plt.ylabel('A concentration $\\mathrm{(molecules/μm^2)}$')\n",
    "plt.show()"
   ]
  },
  {
   "cell_type": "markdown",
   "metadata": {},
   "source": [
    "## Part 2: What about this mixed dimensionality business?\n",
    "\n",
    "The example we built so far just involves diffusion and reaction of a species over a single domain. We might wish to consider a case in which species $A$ is produced (or degraded) at one edge of the domain. In this case, we could modify the equations like this:\n",
    "\n",
    "$$\n",
    "\\frac{\\partial A}{\\partial t} = D_A \\nabla^2 A - k_{decay} A \\quad \\text{in} ~ \\Omega_{surf} \\\\\n",
    "D_A \\nabla A \\cdot \\mathbf{n} = J_A \\quad \\text{on} ~ \\Gamma_{edge,top} \\\\\n",
    "D_A \\nabla A \\cdot \\mathbf{n} = 0 \\quad \\text{on} ~ \\Gamma_{edge,other}\n",
    "$$\n",
    "\n",
    "Previously, we did not define any boundary domain, in which case SMART defaults to assuming no flux over an open boundaries. Here, we can mark the edge of our geometry using `mf1`. A convenient way to change boundary markers is as follows:"
   ]
  },
  {
   "cell_type": "code",
   "execution_count": null,
   "metadata": {},
   "outputs": [],
   "source": [
    "# Create classes for defining parts of the boundary\n",
    "class Top(d.SubDomain):\n",
    "    def inside(self, x, on_boundary):\n",
    "        return d.near(x[1], 1.0) and on_boundary\n",
    "# Initialize sub-domain instances\n",
    "top_marker = Top()\n",
    "mf1 = d.MeshFunction(\"size_t\", rect_mesh, 1, 0)\n",
    "top_marker.mark(mf1, 10)\n",
    "top_var = Compartment(\"top\", 1, unit.um, 10)"
   ]
  },
  {
   "cell_type": "markdown",
   "metadata": {},
   "source": [
    "We now add an associated reaction occuring at the \"top\" surface and add the new compartment, reaction, and parameter to our SMART containers."
   ]
  },
  {
   "cell_type": "code",
   "execution_count": null,
   "metadata": {},
   "outputs": [],
   "source": [
    "flux_unit = unit.molecule / (unit.um * unit.s)\n",
    "J_A_var = Parameter(\"J_A\", 1.0, flux_unit)\n",
    "r2_var = Reaction(\"r2\", [], [\"A\"], param_map={\"J\":\"J_A\"}, \n",
    "                                       eqn_f_str=\"J\", explicit_restriction_to_domain=\"top\")\n",
    "cc.add([top_var])\n",
    "pc.add([J_A_var])\n",
    "rc.add([r2_var])"
   ]
  },
  {
   "cell_type": "markdown",
   "metadata": {},
   "source": [
    "And we can run the simulation again for these conditions."
   ]
  },
  {
   "cell_type": "code",
   "execution_count": null,
   "metadata": {},
   "outputs": [],
   "source": [
    "mesh_tools.write_mesh(rect_mesh, mf1, mf2, \"rect_mesh.h5\")\n",
    "parent_mesh = mesh.ParentMesh(mesh_filename=\"rect_mesh.h5\", mesh_filetype=\"hdf5\", name=\"parent_mesh\")\n",
    "config_cur = config.Config()\n",
    "model_cur = model.Model(pc, sc, cc, rc, config_cur, parent_mesh)\n",
    "config_cur.solver.update({\"final_t\": 1.0, \"initial_dt\": 0.1})\n",
    "model_cur.initialize()\n",
    "results = d.XDMFFile(model_cur.mpi_comm_world, \"A.xdmf\")\n",
    "results.parameters[\"flush_output\"] = True\n",
    "results.write(model_cur.sc[\"A\"].sol, model_cur.t)\n",
    "dx = d.Measure(\"dx\", domain=model_cur.cc[\"surf\"].dolfin_mesh)\n",
    "volume = d.assemble(1.0*dx)\n",
    "int_val = d.assemble(model_cur.sc[\"A\"].sol*dx)\n",
    "avg_A = [int_val/volume]\n",
    "while True:\n",
    "    model_cur.monolithic_solve()\n",
    "    results.write(model_cur.sc[\"A\"].sol, model_cur.t)\n",
    "    int_val = d.assemble(model_cur.sc[\"A\"].sol*dx)\n",
    "    avg_A.append(int_val / volume)\n",
    "    if model_cur.t >= model_cur.final_t:\n",
    "        break\n",
    "visualization.plot(model_cur.sc['A'].u['u'])\n",
    "plt.plot(model_cur.tvec, avg_A)\n",
    "plt.xlabel('Time (s)')\n",
    "plt.ylabel('A concentration $\\mathrm{(molecules/μm^2)}$')\n",
    "plt.show()"
   ]
  },
  {
   "cell_type": "markdown",
   "metadata": {},
   "source": [
    "Even better, we might consider the case in which $A$ can bind and unbind from the top surface. Then we have a **mixed dimensional system of PDEs**. For clarity, we differentiate $A$ in the bulk vs the boundary by writing $A_{bound}$ for its bound state:\n",
    "\n",
    "$$\n",
    "\\frac{\\partial A}{\\partial t} = D_{A} \\nabla^2 A - k_{decay} A \\quad \\text{in} ~ \\Omega_{surf} \\\\\n",
    "D_{A} \\nabla A \\cdot \\mathbf{n} = k_{off} A_{bound} - k_{on} A \\quad \\text{on} ~ \\Gamma_{top} \\\\\n",
    "D_{A} \\nabla A \\cdot \\mathbf{n} = 0 \\quad \\text{on} ~ \\Gamma_{edge,other} \\\\\n",
    "\\\\\n",
    "\\frac{\\partial A_{bound}}{\\partial t} = D_{A,bound} \\nabla^2 A_{bound} + k_{on} A - k_{off} A_{bound}  \\quad \\text{on} ~ \\Gamma_{top}\n",
    "$$\n",
    "\n",
    "Crucially, what is a boundary condition for $A_{bulk}$ becomes a reaction term in the PDE for $A_{bound}$!\n",
    "Note that we do have an open boundary of the boundary domain (the surface is not closed). In this case, SMART assumes no flux at the edge points.\n",
    "\n",
    "We can introduce our new species and reaction, overwriting the previous `r2`:"
   ]
  },
  {
   "cell_type": "code",
   "execution_count": null,
   "metadata": {},
   "outputs": [],
   "source": [
    "edge_unit = unit.molecule / unit.um\n",
    "A_bound_var = Species(\"A_bound\", 0.0, edge_unit, 0.01, D_unit, \"top\")\n",
    "kon_var = Parameter(\"kon\", 1.0, unit.um/unit.s)\n",
    "koff_var = Parameter(\"koff\", 1.0, 1/unit.s)\n",
    "r2_var = Reaction(\"r2\", [\"A\"], [\"A_bound\"], param_map={\"on\":\"kon\", \"off\": \"koff\"}, \n",
    "                                       eqn_f_str=\"A*kon - A_bound*koff\", explicit_restriction_to_domain=\"top\")\n",
    "sc.add([A_bound_var])\n",
    "pc.remove(\"J_A\")\n",
    "pc.add([kon_var, koff_var])\n",
    "rc.add([r2_var])"
   ]
  },
  {
   "cell_type": "markdown",
   "metadata": {},
   "source": [
    "Now we rerun the simulation."
   ]
  },
  {
   "cell_type": "code",
   "execution_count": null,
   "metadata": {},
   "outputs": [],
   "source": [
    "parent_mesh = mesh.ParentMesh(mesh_filename=\"rect_mesh.h5\", mesh_filetype=\"hdf5\", name=\"parent_mesh\")\n",
    "config_cur = config.Config()\n",
    "model_cur = model.Model(pc, sc, cc, rc, config_cur, parent_mesh)\n",
    "config_cur.solver.update({\"final_t\": 1.0, \"initial_dt\": 0.1})\n",
    "model_cur.initialize()\n",
    "results = d.XDMFFile(model_cur.mpi_comm_world, \"A.xdmf\")\n",
    "results.parameters[\"flush_output\"] = True\n",
    "results.write(model_cur.sc[\"A\"].sol, model_cur.t)\n",
    "dx = d.Measure(\"dx\", domain=model_cur.cc[\"surf\"].dolfin_mesh)\n",
    "volume = d.assemble(1.0*dx)\n",
    "int_val = d.assemble(model_cur.sc[\"A\"].sol*dx)\n",
    "avg_A = [int_val/volume]\n",
    "while True:\n",
    "    model_cur.monolithic_solve()\n",
    "    results.write(model_cur.sc[\"A\"].sol, model_cur.t)\n",
    "    int_val = d.assemble(model_cur.sc[\"A\"].sol*dx)\n",
    "    avg_A.append(int_val / volume)\n",
    "    if model_cur.t >= model_cur.final_t:\n",
    "        break\n",
    "visualization.plot(model_cur.sc['A'].u['u'])\n",
    "plt.plot(model_cur.tvec, avg_A)\n",
    "plt.xlabel('Time (s)')\n",
    "plt.ylabel('A concentration $\\mathrm{(molecules/μm^2)}$')\n",
    "plt.show()"
   ]
  },
  {
   "cell_type": "markdown",
   "metadata": {},
   "source": [
    "## Part 3: Cells aren't squares\n",
    "\n",
    "We talk a lot about how cells are not spherical cows (and they certainly are not two dimensional). So we can consider a slightly more nuanced case of an ellipsoid, which can easily be meshed using existing functions in SMART. Note that all units need to be adjusted to the 3D case here, but we can still utilize the same model."
   ]
  },
  {
   "cell_type": "code",
   "execution_count": null,
   "metadata": {},
   "outputs": [],
   "source": [
    "dmesh, mf2, mf3 = mesh_tools.create_ellipsoids([1,1.5,4], [0,0,0], hEdge=0.2)\n",
    "mesh_tools.write_mesh(dmesh, mf2, mf3, \"ellipsoid.h5\")"
   ]
  },
  {
   "cell_type": "code",
   "execution_count": null,
   "metadata": {},
   "outputs": [],
   "source": [
    "D_unit = unit.um**2 / unit.s\n",
    "conc_unit = unit.molecule / unit.um**3\n",
    "surf_unit = unit.molecule / unit.um**2\n",
    "cyto_var = Compartment(\"cyto\", 3, unit.um, 1)\n",
    "pm_var = Compartment(\"pm\", 2, unit.um, 10)\n",
    "A_var = Species(\"A\", 10, conc_unit, 0.1, D_unit, \"cyto\")\n",
    "kdecay_var = Parameter(\"kdecay\", 0, 1/unit.s)\n",
    "r1_var = Reaction(\"r1\", [\"A\"], [], param_map={\"k\":\"kdecay\"},\n",
    "                                        species_map={\"sp\":\"A\"}, eqn_f_str=\"k*sp\")\n",
    "A_bound_var = Species(\"A_bound\", 0.0, surf_unit, 0.01, D_unit, \"pm\")\n",
    "# kon_var = Parameter(\"kon\", 1.0, unit.um/unit.s)\n",
    "kon_var = Parameter.from_expression(\"kon\", \"exp(-5*x)\", unit.um/unit.s)\n",
    "koff_var = Parameter(\"koff\", 1.0, 1/unit.s)\n",
    "r2_var = Reaction(\"r2\", [\"A\"], [\"A_bound\"], param_map={\"on\":\"kon\", \"off\": \"koff\"}, \n",
    "                                       eqn_f_str=\"A*kon - A_bound*koff\", explicit_restriction_to_domain=\"pm\")\n",
    "cc = CompartmentContainer()\n",
    "cc.add([cyto_var, pm_var])\n",
    "sc = SpeciesContainer()\n",
    "sc.add([A_var, A_bound_var])\n",
    "pc = ParameterContainer()\n",
    "pc.add([kdecay_var, kon_var, koff_var])\n",
    "rc = ReactionContainer()\n",
    "rc.add([r1_var, r2_var])\n",
    "parent_mesh = mesh.ParentMesh(mesh_filename=\"spot_mesh.h5\", mesh_filetype=\"hdf5\", name=\"parent_mesh\")\n",
    "config_cur = config.Config()\n",
    "model_cur = model.Model(pc, sc, cc, rc, config_cur, parent_mesh)\n",
    "config_cur.solver.update({\"final_t\": 1.0, \"initial_dt\": 0.05})\n",
    "model_cur.initialize()\n",
    "results = dict()\n",
    "for species_name, species in model_cur.sc.items:\n",
    "    results[species_name] = d.XDMFFile(model_cur.mpi_comm_world, f\"{species_name}.xdmf\")\n",
    "    results[species_name].parameters[\"flush_output\"] = True\n",
    "    results[species_name].write(model_cur.sc[species_name].sol, model_cur.t)\n",
    "avg_A = [A_var.initial_condition]\n",
    "dx = d.Measure(\"dx\", domain=model_cur.cc[\"cyto\"].dolfin_mesh)\n",
    "volume = d.assemble(1.0*dx)\n",
    "while True:\n",
    "    model_cur.monolithic_solve()\n",
    "    for species_name, species in model_cur.sc.items:\n",
    "        results[species_name].write(model_cur.sc[species_name].sol, model_cur.t)\n",
    "    int_val = d.assemble(model_cur.sc[\"A\"].sol*dx)\n",
    "    avg_A.append(int_val / volume)\n",
    "    if model_cur.t >= model_cur.final_t:\n",
    "        break\n",
    "plt.plot(model_cur.tvec, avg_A)\n",
    "plt.xlabel('Time (s)')\n",
    "plt.ylabel('A concentration $\\mathrm{(molecules/μm^2)}$')\n",
    "plt.show()"
   ]
  },
  {
   "cell_type": "markdown",
   "metadata": {},
   "source": [
    "## Part 4: A few special features\n",
    "\n",
    "SMART has some additional features worth highlighting here:\n",
    "* Adaptive time-stepping\n",
    "* Parameters that vary over space and time\n",
    "* Curvature-dependent initial conditions and reactions\n",
    "* Axisymmetric assumption"
   ]
  },
  {
   "cell_type": "code",
   "execution_count": null,
   "metadata": {},
   "outputs": [],
   "source": [
    "mesh_file = 'spine_mesh.xml'#\"spot_mesh.h5\"\n",
    "if mesh_file.endswith(\".h5\"):\n",
    "    dmesh = d.Mesh()\n",
    "    hdf5 = d.HDF5File(dmesh.mpi_comm(), mesh_file, \"r\")\n",
    "    hdf5.read(dmesh, \"/mesh\", False)\n",
    "    mf2 = d.MeshFunction(\"size_t\", dmesh, 2)\n",
    "    hdf5.read(mf2, f\"/mf2\")\n",
    "    mf3 = d.MeshFunction(\"size_t\", dmesh, 3)\n",
    "    hdf5.read(mf3, f\"/mf3\")\n",
    "    hdf5.close()\n",
    "    mf_curv = mesh_tools.compute_curvature(dmesh, mf2, mf3, [10], [1])\n",
    "elif mesh_file.endswith(\".xml\"):\n",
    "    dmesh = d.Mesh(mesh_file)\n",
    "    mf3 = d.MeshFunction(\"size_t\", dmesh, 3, 1)\n",
    "    mf2 = d.MeshFunction(\"size_t\", dmesh, 2, dmesh.domains())\n",
    "    mf_curv = mesh_tools.compute_curvature(dmesh, mf2, mf3, [10], [1])\n",
    "    mesh_file = \"spine_mesh.h5\"\n",
    "    mesh_tools.write_mesh(dmesh, mf2, mf3, mesh_file)\n",
    "\n",
    "parent_mesh = mesh.ParentMesh(mesh_filename=mesh_file,\n",
    "                                    mesh_filetype=\"hdf5\", name=\"parent_mesh\",\n",
    "                                    curvature=mf_curv,\n",
    ")\n",
    "curvfun = model_cur.mf0_to_fun(mf_curv, A_bound_var.V)\n",
    "d.File(\"curv.pvd\") << curvfun"
   ]
  },
  {
   "cell_type": "code",
   "execution_count": null,
   "metadata": {},
   "outputs": [],
   "source": [
    "curv0_var = Parameter(\"curv0\", 10.0, 1/unit.um)\n",
    "r2_var = Reaction(\"r2\", [\"A\"], [\"A_bound\"], param_map={\"on\":\"kon\", \"off\": \"koff\", \"curv0\": \"curv0\"}, \n",
    "                                       eqn_f_str=\"A*kon*exp(-curv/curv0) - A_bound*koff\", explicit_restriction_to_domain=\"pm\")\n",
    "rc.add([r2_var])\n",
    "pc.add([curv0_var])\n",
    "config_cur = config.Config()\n",
    "model_cur = model.Model(pc, sc, cc, rc, config_cur, parent_mesh)\n",
    "config_cur.solver.update({\"final_t\": 1.0, \"initial_dt\": 0.05})\n",
    "model_cur.initialize()\n",
    "results = dict()\n",
    "for species_name, species in model_cur.sc.items:\n",
    "    results[species_name] = d.XDMFFile(model_cur.mpi_comm_world, f\"{species_name}.xdmf\")\n",
    "    results[species_name].parameters[\"flush_output\"] = True\n",
    "    results[species_name].write(model_cur.sc[species_name].sol, model_cur.t)\n",
    "avg_A = [A_var.initial_condition]\n",
    "dx = d.Measure(\"dx\", domain=model_cur.cc[\"cyto\"].dolfin_mesh)\n",
    "volume = d.assemble(1.0*dx)\n",
    "while True:\n",
    "    model_cur.monolithic_solve()\n",
    "    for species_name, species in model_cur.sc.items:\n",
    "        results[species_name].write(model_cur.sc[species_name].sol, model_cur.t)\n",
    "    int_val = d.assemble(model_cur.sc[\"A\"].sol*dx)\n",
    "    avg_A.append(int_val / volume)\n",
    "    if model_cur.t >= model_cur.final_t:\n",
    "        break\n",
    "plt.plot(model_cur.tvec, avg_A)\n",
    "plt.xlabel('Time (s)')\n",
    "plt.ylabel('A concentration $\\mathrm{(molecules/μm^2)}$')\n",
    "plt.show()"
   ]
  }
 ],
 "metadata": {
  "kernelspec": {
   "display_name": "Python 3",
   "language": "python",
   "name": "python3"
  },
  "language_info": {
   "codemirror_mode": {
    "name": "ipython",
    "version": 3
   },
   "file_extension": ".py",
   "mimetype": "text/x-python",
   "name": "python",
   "nbconvert_exporter": "python",
   "pygments_lexer": "ipython3",
   "version": "3.10.12"
  }
 },
 "nbformat": 4,
 "nbformat_minor": 2
}
